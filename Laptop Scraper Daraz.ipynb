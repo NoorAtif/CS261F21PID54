{
 "cells": [
  {
   "cell_type": "code",
   "execution_count": null,
   "id": "3d216166",
   "metadata": {
    "scrolled": false
   },
   "outputs": [],
   "source": [
    "from selenium import webdriver\n",
    "from bs4 import BeautifulSoup\n",
    "import pandas as pd\n",
    "#install chrom webdriver\n",
    "#webdriver can be downloaded from \n",
    "#https://chromedriver.storage.googleapis.com/index.html?path=94.0.4606.41/\n",
    "driver = webdriver.Chrome(executable_path=r\"C:\\Users\\Hp\\Downloads\\chromedriver_win32\\chromedriver.exe\")\n",
    "description=[] #List to store the description of the products\n",
    "prices=[] #List to store the price of the products\n",
    "# rating=[] # List to store the rating of the product\n",
    "# country=[] # List to store the origin of the product\n",
    "# installment=[] # List to store the availability of installment of the product\n",
    "# image=[] # List to store the image of the product\n",
    "# company=[] #List to store the company of the product\n",
    "#for page in range(1,102):\n",
    "driver.get(\"https://www.daraz.pk/catalog/?_keyori=ss&from=input&page=1&q=laptops&spm=a2a0e.home.search.go.6a274937RdbwRi\")\n",
    "content = driver.page_source\n",
    "soup = BeautifulSoup(content)\n",
    "# print(soup)\n",
    "for a in soup.findAll('div',attrs={'class':'c3KeDq'}):\n",
    "        print (a)\n",
    "        Description=a.find('div', attrs={'class':'c16H9d'})\n",
    "        price=a.find('div', attrs={'class':'c3gUW0'})\n",
    "#  Rating= a.find('span',attrs={'class':'c3XbGJ'})\n",
    "#  Country=a.find('span',attrs={'class':'c2i43'})\n",
    "#  Installment=a.find('div', attrs={'class':'c3ubLI'})\n",
    "#  Image=a.find('div', attrs={'class':'c1ZEkM'})\n",
    "# Company=\n",
    "        description.append(Description.text)\n",
    "        prices.append(price.text)\n",
    "# rating.append(Rating.text)  \n",
    "# installments.append(Installment.text)\n",
    "# image.append(Image.text)\n",
    "# country.append(Country.text)\n",
    "#company.append(Company.text)\n",
    "df = pd.DataFrame({'Description':description,'Price':prices})\n",
    "                   #'Ratings':rating,'Country':country,'Installments':installment,'Image':image, \n",
    "df.to_csv('Laptops.csv', index=False, encoding='utf-8')"
   ]
  },
  {
   "cell_type": "code",
   "execution_count": null,
   "id": "ef6ec4a3",
   "metadata": {},
   "outputs": [],
   "source": []
  }
 ],
 "metadata": {
  "kernelspec": {
   "display_name": "Python 3",
   "language": "python",
   "name": "python3"
  },
  "language_info": {
   "codemirror_mode": {
    "name": "ipython",
    "version": 3
   },
   "file_extension": ".py",
   "mimetype": "text/x-python",
   "name": "python",
   "nbconvert_exporter": "python",
   "pygments_lexer": "ipython3",
   "version": "3.8.8"
  }
 },
 "nbformat": 4,
 "nbformat_minor": 5
}
