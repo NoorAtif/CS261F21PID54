{
 "cells": [
  {
   "cell_type": "code",
   "execution_count": 16,
   "id": "890d30c0",
   "metadata": {},
   "outputs": [
    {
     "name": "stdout",
     "output_type": "stream",
     "text": [
      "Description = Infinix INBOOK X1 i5 - 14\" - Intel Core i5 10th Gen - 1035G1 - 512GB SSD - 8GB Ram - Window 10 Home\n",
      "Price = Rs. 99,999\n",
      "Rating = (31)\n"
     ]
    },
    {
     "ename": "AttributeError",
     "evalue": "'str' object has no attribute 'text'",
     "output_type": "error",
     "traceback": [
      "\u001b[1;31m---------------------------------------------------------------------------\u001b[0m",
      "\u001b[1;31mAttributeError\u001b[0m                            Traceback (most recent call last)",
      "\u001b[1;32m<ipython-input-16-bd1ae6872dca>\u001b[0m in \u001b[0;36m<module>\u001b[1;34m\u001b[0m\n\u001b[0;32m     44\u001b[0m     \u001b[0mprint\u001b[0m\u001b[1;33m(\u001b[0m\u001b[1;34m\"Price = \"\u001b[0m\u001b[1;33m+\u001b[0m\u001b[0mstr\u001b[0m\u001b[1;33m(\u001b[0m\u001b[0mprice\u001b[0m\u001b[1;33m.\u001b[0m\u001b[0mtext\u001b[0m\u001b[1;33m)\u001b[0m\u001b[1;33m)\u001b[0m\u001b[1;33m\u001b[0m\u001b[1;33m\u001b[0m\u001b[0m\n\u001b[0;32m     45\u001b[0m     \u001b[0mprint\u001b[0m\u001b[1;33m(\u001b[0m\u001b[1;34m\"Rating = \"\u001b[0m\u001b[1;33m+\u001b[0m\u001b[0mstr\u001b[0m\u001b[1;33m(\u001b[0m\u001b[0mRating\u001b[0m\u001b[1;33m)\u001b[0m\u001b[1;33m)\u001b[0m\u001b[1;33m\u001b[0m\u001b[1;33m\u001b[0m\u001b[0m\n\u001b[1;32m---> 46\u001b[1;33m     \u001b[0mprint\u001b[0m\u001b[1;33m(\u001b[0m\u001b[1;34m\"Country = \"\u001b[0m\u001b[1;33m+\u001b[0m\u001b[0mstr\u001b[0m\u001b[1;33m(\u001b[0m\u001b[0mCountries\u001b[0m\u001b[1;33m.\u001b[0m\u001b[0mtext\u001b[0m\u001b[1;33m)\u001b[0m\u001b[1;33m)\u001b[0m\u001b[1;33m\u001b[0m\u001b[1;33m\u001b[0m\u001b[0m\n\u001b[0m\u001b[0;32m     47\u001b[0m     \u001b[0mprint\u001b[0m\u001b[1;33m(\u001b[0m\u001b[1;34m\"Installments = \"\u001b[0m\u001b[1;33m+\u001b[0m\u001b[0mstr\u001b[0m\u001b[1;33m(\u001b[0m\u001b[0mInstallment\u001b[0m\u001b[1;33m)\u001b[0m\u001b[1;33m)\u001b[0m\u001b[1;33m\u001b[0m\u001b[1;33m\u001b[0m\u001b[0m\n\u001b[0;32m     48\u001b[0m \u001b[1;31m#     print(\"Image = \"+str(Image))\u001b[0m\u001b[1;33m\u001b[0m\u001b[1;33m\u001b[0m\u001b[1;33m\u001b[0m\u001b[0m\n",
      "\u001b[1;31mAttributeError\u001b[0m: 'str' object has no attribute 'text'"
     ]
    }
   ],
   "source": [
    "from selenium import webdriver\n",
    "from bs4 import BeautifulSoup\n",
    "import pandas as pd\n",
    "#install chrom webdriver\n",
    "#webdriver can be downloaded from \n",
    "#https://chromedriver.storage.googleapis.com/index.html?path=94.0.4606.41/\n",
    "driver = webdriver.Chrome(executable_path=r\"C:\\Users\\Hp\\Downloads\\chromedriver_win32\\chromedriver.exe\")\n",
    "description=[] #List to store the description of the products\n",
    "prices=[] #List to store the price of the products\n",
    "# rating=[] # List to store the rating of the product\n",
    "# country=[] # List to store the origin of the product\n",
    "# installment=[] # List to store the availability of installment of the product\n",
    "# image=[] # List to store the image of the product\n",
    "# company=[] #List to store the company of the product\n",
    "#for page in range(1,102):\n",
    "driver.get(\"https://www.daraz.pk/catalog/?_keyori=ss&from=input&page=1&q=laptops&spm=a2a0e.home.search.go.6a274937RdbwRi\")\n",
    "content = driver.page_source\n",
    "soup = BeautifulSoup(content)    \n",
    "# print(soup)\n",
    "for a in soup.findAll('div',attrs={'class':'c3KeDq'}):\n",
    "    Description=a.find('div', attrs={'class':'c16H9d'})\n",
    "    price=a.find('div', attrs={'class':'c3gUW0'})\n",
    "    if(a.find('span',attrs={'class':'c3XbGJ'})):\n",
    "        \n",
    "        Rating= a.find('span',attrs={'class':'c3XbGJ'}).text\n",
    "    else:\n",
    "        Rating = \"No Rating Available\"\n",
    "    \n",
    "    if(a.find('span',attrs={'class':'c2i43-'})):\n",
    "        Countries=a.find('span',attrs={'class':'c2i43-'}).text\n",
    "    else:\n",
    "        Countries = \"No Country Available\"\n",
    "    \n",
    "    if(a.find('div', attrs={'class':'c3ubLI'})):\n",
    "        \n",
    "        Installment=a.find('div', attrs={'class':'c3ubLI'}).text\n",
    "    else:\n",
    "        Installment = \"No Installments Available\"\n",
    "#     Image=a.find('div', attrs={'class':'c1ZEkM'})\n",
    "#Company=\n",
    "    description.append(Description.text)\n",
    "    prices.append(price.text)\n",
    "    print(\"Description = \"+str(Description.text))\n",
    "    print(\"Price = \"+str(price.text))\n",
    "    print(\"Rating = \"+str(Rating))\n",
    "    print(\"Country = \"+str(Countries))\n",
    "    print(\"Installments = \"+str(Installment))\n",
    "#     print(\"Image = \"+str(Image))\n",
    "   # print()\n",
    "# rating.append(Rating.text)  \n",
    "# installments.append(Installment.text)\n",
    "# image.append(Image.text)\n",
    "# country.append(Country.text)\n",
    "# company.append(Company.text)\n",
    "# df = pd.DataFrame({'Description':description,'Price':prices})\n",
    "#                    #'Ratings':rating,'Country':country,'Installments':installment,'Image':image, \n",
    "# df.to_csv('Laptops.csv', index=False, encoding='utf-8')   \n",
    "driver.close()"
   ]
  },
  {
   "cell_type": "code",
   "execution_count": null,
   "id": "2846740d",
   "metadata": {},
   "outputs": [],
   "source": []
  }
 ],
 "metadata": {
  "kernelspec": {
   "display_name": "Python 3",
   "language": "python",
   "name": "python3"
  },
  "language_info": {
   "codemirror_mode": {
    "name": "ipython",
    "version": 3
   },
   "file_extension": ".py",
   "mimetype": "text/x-python",
   "name": "python",
   "nbconvert_exporter": "python",
   "pygments_lexer": "ipython3",
   "version": "3.8.8"
  }
 },
 "nbformat": 4,
 "nbformat_minor": 5
}
