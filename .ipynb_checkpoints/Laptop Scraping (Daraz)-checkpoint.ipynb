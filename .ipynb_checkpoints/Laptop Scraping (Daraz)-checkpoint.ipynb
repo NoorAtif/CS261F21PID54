{
 "cells": [
  {
   "cell_type": "code",
   "execution_count": 25,
   "id": "890d30c0",
   "metadata": {},
   "outputs": [
    {
     "ename": "SyntaxError",
     "evalue": "invalid syntax (<ipython-input-25-a45eeed7a475>, line 15)",
     "output_type": "error",
     "traceback": [
      "\u001b[1;36m  File \u001b[1;32m\"<ipython-input-25-a45eeed7a475>\"\u001b[1;36m, line \u001b[1;32m15\u001b[0m\n\u001b[1;33m    driver.get(\"https://www.daraz.pk/acer--samsung--lenovo--dell--amazon--lenovo-thinkpad--hp--asus--logitech--lenovo-ideapad/?from=input&location=-178&page=\"+str(page)\"&q=all%20laptops\")\u001b[0m\n\u001b[1;37m                                                                                                                                                                        ^\u001b[0m\n\u001b[1;31mSyntaxError\u001b[0m\u001b[1;31m:\u001b[0m invalid syntax\n"
     ]
    }
   ],
   "source": [
    "from selenium import webdriver\n",
    "from bs4 import BeautifulSoup\n",
    "import pandas as pd\n",
    "\n",
    "driver = webdriver.Chrome(executable_path=r\"C:\\Users\\Hp\\Downloads\\chromedriver_win32\\chromedriver.exe\")\n",
    "description=[]  #List to store the description of the products\n",
    "prices=[]       #List to store the price of the products\n",
    "rating=[]       # List to store the rating of the product\n",
    "country=[]      # List to store the origin of the product\n",
    "installment=[]  # List to store the availability of installment of the product\n",
    "\n",
    "# Loop For Multiple Pages\n",
    "for page in range(1,102):\n",
    "# Website URL\n",
    "        driver.get(\"https://www.daraz.pk/acer--samsung--lenovo--dell--amazon--lenovo-thinkpad--hp--asus--logitech--lenovo-ideapad/?from=input&location=-178&page=\"+str(page)+\"&q=all%20laptops\")\n",
    "        content = driver.page_source\n",
    "        soup = BeautifulSoup(content)    \n",
    "# print(soup)\n",
    "        for a in soup.findAll('div',attrs={'class':'c3KeDq'}):\n",
    "    \n",
    "            #Description\n",
    "            Description=a.find('div', attrs={'class':'c16H9d'})\n",
    "            description.append(Description.text)\n",
    "            #Price\n",
    "            price=a.find('div', attrs={'class':'c3gUW0'})\n",
    "            prices.append(price.text)\n",
    "    \n",
    "            #Rating If It Exists\n",
    "            if(a.find('span',attrs={'class':'c3XbGJ'})):\n",
    "        \n",
    "             Rating= a.find('span',attrs={'class':'c3XbGJ'}).text\n",
    "             rating.append(Rating) \n",
    "            else:\n",
    "                Rating = \"No Rating Available\"\n",
    "                rating.append(Rating) \n",
    "        \n",
    "            #Country If It Exists\n",
    "\n",
    "            if(a.find('span',attrs={'class':'c2i43-'})):\n",
    "                Countries=a.find('span',attrs={'class':'c2i43-'}).text\n",
    "                country.append(Countries)\n",
    "            else:\n",
    "                Countries = \"No Country Available\"\n",
    "                country.append(Countries)\n",
    "     \n",
    "            #Installments If It Exists\n",
    "\n",
    "            if(a.find('div', attrs={'class':'c3ubLI'})):\n",
    "        \n",
    "              Installment=a.find('div', attrs={'class':'c3ubLI'}).text\n",
    "              installment.append(Installment)\n",
    "            else:\n",
    "                Installment = \"No Installments Available\"\n",
    "                installment.append(Installment)\n",
    "        \n",
    "\n",
    "#     print(\"Description = \"+str(Description.text))\n",
    "#     print(\"Price = \"+str(price.text))\n",
    "#     print(\"Rating = \"+str(Rating))\n",
    "#     print(\"Country = \"+str(Countries))\n",
    "#     print(\"Installments = \"+str(Installment))\n",
    "    \n",
    "\n",
    "df = pd.DataFrame({'Description':description,'Price':prices,'Ratings':rating,'Country':country,'Installments':installment})\n",
    "df.to_csv('Laptops.csv', index=False, encoding='utf-8')   \n",
    "driver.close()"
   ]
  },
  {
   "cell_type": "code",
   "execution_count": null,
   "id": "2846740d",
   "metadata": {},
   "outputs": [],
   "source": []
  }
 ],
 "metadata": {
  "kernelspec": {
   "display_name": "Python 3",
   "language": "python",
   "name": "python3"
  },
  "language_info": {
   "codemirror_mode": {
    "name": "ipython",
    "version": 3
   },
   "file_extension": ".py",
   "mimetype": "text/x-python",
   "name": "python",
   "nbconvert_exporter": "python",
   "pygments_lexer": "ipython3",
   "version": "3.8.8"
  }
 },
 "nbformat": 4,
 "nbformat_minor": 5
}
